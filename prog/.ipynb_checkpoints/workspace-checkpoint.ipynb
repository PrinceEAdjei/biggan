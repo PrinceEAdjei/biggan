{
 "cells": [
  {
   "cell_type": "code",
   "execution_count": null,
   "metadata": {},
   "outputs": [],
   "source": [
    "%load_ext autoreload\n",
    "%autoreload 2\n",
    "%pylab inline\n",
    "from models import *\n",
    "import tqdm\n",
    "import os\n",
    "os.environ['CUDA_VISIBLE_DEVICES'] = '0'"
   ]
  },
  {
   "cell_type": "code",
   "execution_count": null,
   "metadata": {},
   "outputs": [],
   "source": [
    "class progGAN(tf.keras.models.Model):\n",
    "    ''''''\n",
    "    def __init__(self):\n",
    "        ''''''\n",
    "        self.G = NVIDIA_generator()\n",
    "        self.D = NVIDIA_discriminator()\n",
    "        super(tf.keras.models.Model, self).__init__(\n",
    "                [i for m in (self.G, self.D) for i in m.inputs],\n",
    "                [o for m in (self.G, self.D) for o in m.outputs])\n",
    "        \n",
    "    def blend(self, step, period=100.):\n",
    "        ''''''\n",
    "        scale = tf.range(8, dtype=tf.float32)\n",
    "        state = tf.minimum(tf.cast(step, tf.float32) / tf.cast(period, tf.float32), 7)\n",
    "        return tf.maximum(tf.ones_like(scale) - tf.abs(state - scale), tf.zeros_like(scale))\n",
    "    \n",
    "    def grad_penalty(self, xs, xs_hat, blend):\n",
    "        '''gradient penalty from arxiv.org/pdf/1704.00028.pdf'''\n",
    "        interps = []\n",
    "        for i in range(len(xs)):\n",
    "            alpha = tf.random_uniform(shape=[tf.shape(xs[i])[0],1,1,1])\n",
    "            interps.append((1-alpha)*xs[i] + alpha*xs_hat[i])\n",
    "        grads = tf.gradients(self.D(interps)*blend, interps)[:-1]\n",
    "        slopes = tf.reduce_sum(\n",
    "            [tf.sqrt(tf.reduce_sum(tf.square(grad), axis=[1,2,3])) for grad in grads],\n",
    "            axis=0)\n",
    "        return tf.reduce_mean((slopes-1)**2)\n",
    "    \n",
    "    def train(self, x, batch_size=1, period=100., lambda_GP=10, lr=1e-3):\n",
    "        ''''''\n",
    "        z = tf.random_normal(shape=(batch_size, 512))\n",
    "        x = tf.random_crop(x, [batch_size, 1024, 1024, 3])\n",
    "        xs = [tf.image.resize_bilinear(x, [s, s]) for s in [\n",
    "            1024, 512, 256, 128, 64, 32, 16, 8, 4]]\n",
    "        xs_hat = self.G(z)\n",
    "        \n",
    "        step = tf.Variable(0, name='step')\n",
    "        blend = self.blend(step, period=period)[::-1] # reverse (hi-res last)\n",
    "        real = tf.reduce_sum(self.D(xs) * blend)\n",
    "        fake = tf.reduce_sum(self.D(xs_hat) * blend)\n",
    "        GP = self.grad_penalty(xs, xs_hat, blend)\n",
    "                \n",
    "        L_G = fake\n",
    "        L_D = real - fake + lambda_GP*GP\n",
    "        \n",
    "        G_opt = tf.train.AdamOptimizer(lr, beta1=0, beta2=0.99).minimize(\n",
    "            L_G, var_list=self.G.trainable_weights)\n",
    "        D_opt = tf.train.AdamOptimizer(lr, beta1=0, beta2=0.99).minimize(\n",
    "            L_D, var_list=self.D.trainable_weights, global_step=step)\n",
    "        \n",
    "        with tf.Session() as sess:\n",
    "            sess.run(tf.global_variables_initializer())\n",
    "            while 1:\n",
    "                for i in tqdm.trange(100, disable=True):\n",
    "                    print('L_G: '+str(sess.run([G_opt, L_G])[1]))\n",
    "                    print('L_D: '+str(sess.run([D_opt, L_D])[1]))"
   ]
  },
  {
   "cell_type": "code",
   "execution_count": null,
   "metadata": {},
   "outputs": [],
   "source": [
    "pg = progGAN()"
   ]
  },
  {
   "cell_type": "code",
   "execution_count": null,
   "metadata": {},
   "outputs": [],
   "source": [
    "x = expand_dims(imread('/data/datasets/Hi_res_stills/Cosmic/Cosmic_003.jpg'), 0).astype('float32')\n",
    "x /= 127.5\n",
    "x -= 1"
   ]
  },
  {
   "cell_type": "code",
   "execution_count": null,
   "metadata": {
    "scrolled": true
   },
   "outputs": [],
   "source": [
    "pg.train(x, batch_size=1, period=1000)"
   ]
  },
  {
   "cell_type": "code",
   "execution_count": null,
   "metadata": {},
   "outputs": [],
   "source": []
  },
  {
   "cell_type": "code",
   "execution_count": null,
   "metadata": {},
   "outputs": [],
   "source": []
  },
  {
   "cell_type": "code",
   "execution_count": null,
   "metadata": {},
   "outputs": [],
   "source": []
  }
 ],
 "metadata": {
  "kernelspec": {
   "display_name": "Python 2",
   "language": "python",
   "name": "python2"
  },
  "language_info": {
   "codemirror_mode": {
    "name": "ipython",
    "version": 2
   },
   "file_extension": ".py",
   "mimetype": "text/x-python",
   "name": "python",
   "nbconvert_exporter": "python",
   "pygments_lexer": "ipython2",
   "version": "2.7.6"
  }
 },
 "nbformat": 4,
 "nbformat_minor": 2
}
